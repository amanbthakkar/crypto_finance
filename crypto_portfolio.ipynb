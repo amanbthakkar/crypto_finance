{
 "cells": [
  {
   "cell_type": "code",
   "execution_count": 3,
   "metadata": {},
   "outputs": [],
   "source": [
    "import pandas as pd"
   ]
  },
  {
   "cell_type": "code",
   "execution_count": 4,
   "metadata": {},
   "outputs": [],
   "source": [
    "from pandas_datareader import data\n",
    "import matplotlib.pyplot as plt\n",
    "from matplotlib import style, cm\n",
    "import numpy as np\n",
    "style.use('ggplot')"
   ]
  },
  {
   "cell_type": "code",
   "execution_count": 5,
   "metadata": {},
   "outputs": [],
   "source": [
    "start_date='2015-11-22'\n",
    "end_date='2021-03-30'\n",
    "RFR = 0 #risk free rate"
   ]
  },
  {
   "cell_type": "code",
   "execution_count": 6,
   "metadata": {},
   "outputs": [],
   "source": [
    "#tickers = ['BTC-USD', 'ETH-USD', 'XRP-USD', 'LTC-USD', 'XLM-USD', 'DASH-USD', 'DOGE-USD']\n",
    "tickers = ['BTC-USD', 'ETH-USD']"
   ]
  },
  {
   "cell_type": "code",
   "execution_count": 7,
   "metadata": {},
   "outputs": [],
   "source": [
    "no_of_simulations=100000"
   ]
  },
  {
   "cell_type": "code",
   "execution_count": 9,
   "metadata": {},
   "outputs": [],
   "source": [
    "returns = pd.DataFrame()\n",
    "for ticker in tickers:\n",
    "    values = data.DataReader(ticker, 'yahoo', start_date, end_date)\n",
    "    values[ticker] = values['Adj Close'].pct_change()\n",
    "    \n",
    "    if returns.empty:\n",
    "        returns = values[[ticker]]\n",
    "    else:\n",
    "        returns = returns.join(values[[ticker]], how = 'outer')"
   ]
  },
  {
   "cell_type": "code",
   "execution_count": 10,
   "metadata": {},
   "outputs": [],
   "source": [
    "portfolio_returns = []\n",
    "portfolio_risks = []\n",
    "sharpe_ratios = []\n",
    "portfolio_weights = []\n"
   ]
  },
  {
   "cell_type": "code",
   "execution_count": 11,
   "metadata": {},
   "outputs": [],
   "source": [
    "for portfolio in range(no_of_simulations):\n",
    "    #generate some random portfolio weights\n",
    "    weights = np.random.random_sample(len(tickers))\n",
    "    \n",
    "    #normalize them by dividing each by their collective sum\n",
    "    weights = weights / np.sum(weights)\n",
    "    \n",
    "    #round to 3 decimals\n",
    "    weights = np.round(weights, 3)\n",
    "    \n",
    "    #store them to calculate useful stuff later on\n",
    "    portfolio_weights.append(weights)\n",
    "    \n",
    "    #Calculate the annualized return as mean returns over a year in portfolio\n",
    "    annualized_return = np.sum(returns.mean() * weights) * 365\n",
    "    portfolio_returns.append(annualized_return)\n",
    "    \n",
    "    #Get the covariance matrix and calculate risk as std deviation\n",
    "    matrix_covariance = returns.cov()*365\n",
    "    portfolio_variance = np.dot(weights.T, np.dot(matrix_covariance, weights))\n",
    "    portfolio_stdv = np.sqrt(portfolio_variance)\n",
    "    portfolio_risks.append(portfolio_stdv) \n",
    "    \n",
    "    #sharpe ratio\n",
    "    sharpe_ratio = (annualized_return - RFR) / portfolio_stdv\n",
    "    sharpe_ratios.append(sharpe_ratio)"
   ]
  },
  {
   "cell_type": "code",
   "execution_count": 12,
   "metadata": {},
   "outputs": [
    {
     "name": "stdout",
     "output_type": "stream",
     "text": [
      "        Return      Risk   Sharpe         Weights\n",
      "0      1.34197  0.746151  1.79853  [0.892, 0.108]\n",
      "1      1.38659  0.747052  1.85609  [0.834, 0.166]\n",
      "2        1.502  0.768565  1.95429  [0.684, 0.316]\n",
      "3      1.47122  0.760191  1.93533  [0.724, 0.276]\n",
      "4      1.89513   1.00852  1.87913  [0.173, 0.827]\n",
      "...        ...       ...      ...             ...\n",
      "99995  1.69279  0.858341  1.97217  [0.436, 0.564]\n",
      "99996  1.55739  0.788204  1.97587  [0.612, 0.388]\n",
      "99997  1.78127  0.918395  1.93954  [0.321, 0.679]\n",
      "99998  1.74203  0.890552  1.95612  [0.372, 0.628]\n",
      "99999  1.48584  0.763936  1.94498  [0.705, 0.295]\n",
      "\n",
      "[100000 rows x 4 columns]\n"
     ]
    }
   ],
   "source": [
    "portfolio_returns = np.array(portfolio_returns)\n",
    "portfolio_risks = np.array(portfolio_risks)\n",
    "sharpe_ratios = np.array(sharpe_ratios)\n",
    "\n",
    "portfolio_metrics = [portfolio_returns, portfolio_risks, sharpe_ratios, portfolio_weights]\n",
    "\n",
    "portfolios_df = pd.DataFrame(portfolio_metrics).T\n",
    "portfolios_df.columns = [\"Return\", \"Risk\", \"Sharpe\", \"Weights\"]\n",
    "print (portfolios_df)\n"
   ]
  },
  {
   "cell_type": "code",
   "execution_count": 13,
   "metadata": {},
   "outputs": [],
   "source": [
    "min_risk = portfolios_df.iloc[portfolios_df['Risk'].astype(float).idxmin()]\n",
    "max_return = portfolios_df.iloc[portfolios_df['Return'].astype(float).idxmax()]\n",
    "max_sharpe = portfolios_df.iloc[portfolios_df['Sharpe'].astype(float).idxmax()]"
   ]
  },
  {
   "cell_type": "code",
   "execution_count": 14,
   "metadata": {},
   "outputs": [
    {
     "name": "stdout",
     "output_type": "stream",
     "text": [
      "['BTC-USD', 'ETH-USD']\n",
      "Lowest Risk:  [87.5 12.5]\n",
      "Maximum Return :  [  0. 100.]\n",
      "Maximum Sharpe:  [53.7 46.3]\n"
     ]
    }
   ],
   "source": [
    "print(tickers)\n",
    "print(\"Lowest Risk: \", min_risk['Weights']*100)\n",
    "print(\"Maximum Return : \", max_return['Weights']*100)\n",
    "print(\"Maximum Sharpe: \", max_sharpe['Weights']*100)"
   ]
  },
  {
   "cell_type": "code",
   "execution_count": 17,
   "metadata": {},
   "outputs": [
    {
     "name": "stdout",
     "output_type": "stream",
     "text": [
      "Return        2.02823\n",
      "Risk           1.1278\n",
      "Sharpe        1.79839\n",
      "Weights    [0.0, 1.0]\n",
      "Name: 3838, dtype: object\n",
      "Return            1.61509\n",
      "Risk             0.814497\n",
      "Sharpe            1.98293\n",
      "Weights    [0.537, 0.463]\n",
      "Name: 1093, dtype: object\n",
      "Return            1.35505\n",
      "Risk             0.745979\n",
      "Sharpe            1.81647\n",
      "Weights    [0.875, 0.125]\n",
      "Name: 1377, dtype: object\n"
     ]
    }
   ],
   "source": [
    "print(max_return)\n",
    "print(max_sharpe)\n",
    "print(min_risk)"
   ]
  },
  {
   "cell_type": "markdown",
   "metadata": {},
   "source": [
    "print(min_risk)"
   ]
  },
  {
   "cell_type": "code",
   "execution_count": 16,
   "metadata": {},
   "outputs": [
    {
     "data": {
      "image/png": "[encoded data removed]",
      "text/plain": [
       "<Figure size 720x360 with 2 Axes>"
      ]
     },
     "metadata": {
      "needs_background": "light"
     },
     "output_type": "display_data"
    }
   ],
   "source": [
    "#Visualization\n",
    "\n",
    "plt.figure(figsize = (10,5))\n",
    "plt.scatter(portfolio_risks, portfolio_returns, c = portfolio_returns / portfolio_risks, cmap=cm.plasma)\n",
    "plt.title(\"Portfolio Optimization\", fontsize = 25)\n",
    "plt.xlabel(\"Volatility (Risk)\", fontsize = 20)\n",
    "plt.ylabel(\"Returns\", fontsize = 20)\n",
    "plt.xticks(fontsize = 20)\n",
    "plt.yticks(fontsize = 20)\n",
    "plt.colorbar(label = 'Sharpe Ratio')\n",
    "plt.plot(max_sharpe['Risk'], max_sharpe['Return'], color = 'red', marker='*', label = 'Max Sharpe', linestyle='None', ms = 15)\n",
    "plt.plot(max_return['Risk'], max_return['Return'], color = 'red', marker='X', linestyle='None', label = 'Max Return', ms = 15)\n",
    "plt.plot(min_risk['Risk'], min_risk['Return'], color = 'red', marker='P', linestyle='None', label = 'Min Risk', ms = 15)\n",
    "plt.legend(loc='upper left', labelspacing = 1)\n",
    "plt.show()"
   ]
  },
  {
   "cell_type": "code",
   "execution_count": 10,
   "metadata": {},
   "outputs": [
    {
     "data": {
      "text/plain": [
       "pandas.core.frame.DataFrame"
      ]
     },
     "execution_count": 10,
     "metadata": {},
     "output_type": "execute_result"
    }
   ],
   "source": [
    "type(btc_price)\n",
    "#https://samueli.ucla.edu/ucla-blockchain-video-series/"
   ]
  }
 ],
 "metadata": {
  "kernelspec": {
   "display_name": "Python 3",
   "language": "python",
   "name": "python3"
  },
  "language_info": {
   "codemirror_mode": {
    "name": "ipython",
    "version": 3
   },
   "file_extension": ".py",
   "mimetype": "text/x-python",
   "name": "python",
   "nbconvert_exporter": "python",
   "pygments_lexer": "ipython3",
   "version": "3.7.4"
  }
 },
 "nbformat": 4,
 "nbformat_minor": 2
}
